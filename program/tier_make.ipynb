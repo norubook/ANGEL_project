{
 "cells": [
  {
   "cell_type": "markdown",
   "metadata": {},
   "source": [
    "このプログラムはtier表を作成するプログラムです．\n",
    "\n",
    "5分割\n",
    "\n",
    "SABCDでランク付け\n",
    "\n",
    "All-in-One Notation and Grading Evaluation Logic (ANGEL)"
   ]
  },
  {
   "cell_type": "code",
   "execution_count": null,
   "metadata": {},
   "outputs": [],
   "source": [
    "import csv\n",
    "\n"
   ]
  }
 ],
 "metadata": {
  "language_info": {
   "name": "python"
  }
 },
 "nbformat": 4,
 "nbformat_minor": 2
}

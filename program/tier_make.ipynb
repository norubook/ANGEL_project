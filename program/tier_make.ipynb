{
 "cells": [
  {
   "cell_type": "markdown",
   "metadata": {},
   "source": [
    "このプログラムはtier表を作成するプログラムです．\n",
    "\n",
    "5分割\n",
    "\n",
    "SABCDでランク付け\n",
    "\n",
    "All-in-One Notation and Grading Evaluation Logic (ANGEL)"
   ]
  },
  {
   "cell_type": "code",
   "execution_count": null,
   "metadata": {},
   "outputs": [],
   "source": [
    "# google drive 上で行う場合は下記コマンドを入力すること\n",
    "from google.colab import drive\n",
    "drive.mount('/gdrive')\n",
    "%cd /gdrive"
   ]
  },
  {
   "cell_type": "code",
   "execution_count": 17,
   "metadata": {},
   "outputs": [
    {
     "name": "stdout",
     "output_type": "stream",
     "text": [
      "   id name make idea  point remark\n",
      "0   1    a    a    a     12      a\n",
      "1   2    b    b    b     21      b\n",
      "2   3    a    c    c     24      c\n",
      "3   4    a    d    d     36      d\n"
     ]
    }
   ],
   "source": [
    "import pandas as pd\n",
    "\n",
    "\n",
    "df = pd.read_csv('../csv/test.csv')\n",
    "\n",
    "print(df)\n",
    "\n"
   ]
  },
  {
   "cell_type": "markdown",
   "metadata": {},
   "source": [
    "下記はグループ化の工程\n",
    "\n",
    "groupbyの中身を変更することでまとめる基準を変更することができる"
   ]
  },
  {
   "cell_type": "code",
   "execution_count": 18,
   "metadata": {},
   "outputs": [
    {
     "name": "stdout",
     "output_type": "stream",
     "text": [
      "  name        id  point\n",
      "0    a  2.666667   24.0\n",
      "1    b  2.000000   21.0\n"
     ]
    }
   ],
   "source": [
    "df_grouped= df.groupby('name',as_index=False).mean(numeric_only=True)\n",
    "\n",
    "print(df_grouped)"
   ]
  },
  {
   "cell_type": "code",
   "execution_count": 19,
   "metadata": {},
   "outputs": [
    {
     "name": "stdout",
     "output_type": "stream",
     "text": [
      "  name        id  point\n",
      "1    b  2.000000   21.0\n",
      "0    a  2.666667   24.0\n"
     ]
    }
   ],
   "source": [
    "df_sorted = df_grouped.sort_values('point')\n",
    "\n",
    "print(df_sorted)"
   ]
  },
  {
   "cell_type": "code",
   "execution_count": 20,
   "metadata": {},
   "outputs": [],
   "source": [
    "html_text ='''\n",
    "<!DOCTYPE html>\n",
    "<html lang=\"en\">\n",
    "<head>\n",
    "    <meta charset=\"UTF-8\">\n",
    "    <meta name=\"viewport\" content=\"width=device-width, initial-scale=1.0\">\n",
    "    <title>Ranking Table</title>\n",
    "    <style>\n",
    "        body {\n",
    "            font-family: Arial, sans-serif;\n",
    "            margin: 20px;\n",
    "        }\n",
    "        table {\n",
    "            width: 100%;\n",
    "            border-collapse: collapse;\n",
    "            margin-bottom: 20px;\n",
    "        }\n",
    "        th, td {\n",
    "            border: 1px solid #ccc;\n",
    "            padding: 10px;\n",
    "            text-align: left;\n",
    "        }\n",
    "        th {\n",
    "            background-color: #f4f4f4;\n",
    "        }\n",
    "        tr:nth-child(even) {\n",
    "            background-color: #f9f9f9;\n",
    "        }\n",
    "        tr:hover {\n",
    "            background-color: #f1f1f1;\n",
    "        }\n",
    "    </style>\n",
    "</head>\n",
    "<body>\n",
    "    <h1>Ranking Table</h1>\n",
    "    <table>\n",
    "        <thead>\n",
    "            <tr>\n",
    "                <th>Rank</th>\n",
    "                <th>Name</th>\n",
    "                <th>Score</th>\n",
    "            </tr>\n",
    "        </thead>\n",
    "        <tbody>\n",
    "\n",
    "'''\n",
    "for k in range (df_sorted.shape[0]):\n",
    " html_text=html_text+'''\n",
    " \n",
    "            <tr>\n",
    "                <td>{}</td>\n",
    "                <td>{}</td>\n",
    "                <td>{}</td>\n",
    "            </tr>\n",
    " '''.format(k+1,str(df_sorted['name'][k]),df_sorted['point'][k])\n",
    "\n",
    "html_text=html_text+'''\n",
    "            </tr>\n",
    "        </tbody>\n",
    "    </table>\n",
    " </body>\n",
    " </html>\n",
    " '''"
   ]
  },
  {
   "cell_type": "code",
   "execution_count": 22,
   "metadata": {},
   "outputs": [],
   "source": [
    "a=0\n",
    "out_path = r'../output/'\n",
    "\n",
    "while 1:\n",
    "    try:\n",
    "      if a==0:\n",
    "       f = open('{}test.html'.format(out_path), 'x', encoding='UTF-8')\n",
    "       break\n",
    "      else:\n",
    "        f = open('{}test_{}.html'.format(out_path,str(a)), 'x', encoding='UTF-8')\n",
    "        break\n",
    "\n",
    "    except:\n",
    "      a+=1\n",
    "\n",
    "f.write(html_text)\n",
    "f.close()\n"
   ]
  },
  {
   "cell_type": "markdown",
   "metadata": {},
   "source": []
  }
 ],
 "metadata": {
  "kernelspec": {
   "display_name": "Python 3",
   "language": "python",
   "name": "python3"
  },
  "language_info": {
   "codemirror_mode": {
    "name": "ipython",
    "version": 3
   },
   "file_extension": ".py",
   "mimetype": "text/x-python",
   "name": "python",
   "nbconvert_exporter": "python",
   "pygments_lexer": "ipython3",
   "version": "3.11.3"
  }
 },
 "nbformat": 4,
 "nbformat_minor": 2
}

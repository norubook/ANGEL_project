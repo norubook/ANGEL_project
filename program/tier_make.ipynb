{
 "cells": [
  {
   "cell_type": "markdown",
   "metadata": {},
   "source": [
    "このプログラムはtier表を作成するプログラムです．\n",
    "\n",
    "5分割\n",
    "\n",
    "SABCDでランク付け\n",
    "\n",
    "All-in-One Notation and Grading Evaluation Logic (ANGEL)"
   ]
  },
  {
   "cell_type": "code",
   "execution_count": 2,
   "metadata": {},
   "outputs": [
    {
     "name": "stdout",
     "output_type": "stream",
     "text": [
      "   id name make idea  point\n",
      "0   1    a    a    a     12\n",
      "1   2    b    b    b     21\n",
      "2   3    a    c    c     24\n",
      "3   4    a    d    d     36\n"
     ]
    }
   ],
   "source": [
    "import pandas as pd\n",
    "\n",
    "\n",
    "df = pd.read_csv('../csv/test.csv')\n",
    "\n",
    "print(df)\n",
    "\n"
   ]
  },
  {
   "cell_type": "markdown",
   "metadata": {},
   "source": [
    "下記はグループ化の工程\n",
    "\n",
    "groupbyの中身を変更することでまとめる基準を変更することができる"
   ]
  },
  {
   "cell_type": "code",
   "execution_count": 3,
   "metadata": {},
   "outputs": [
    {
     "name": "stdout",
     "output_type": "stream",
     "text": [
      "            id  point\n",
      "name                 \n",
      "a     2.666667   24.0\n",
      "b     2.000000   21.0\n"
     ]
    }
   ],
   "source": [
    "df_grouped= df.groupby('name').mean(numeric_only=True)\n",
    "\n",
    "print(df_grouped)"
   ]
  },
  {
   "cell_type": "code",
   "execution_count": 4,
   "metadata": {},
   "outputs": [
    {
     "name": "stdout",
     "output_type": "stream",
     "text": [
      "            id  point\n",
      "name                 \n",
      "b     2.000000   21.0\n",
      "a     2.666667   24.0\n"
     ]
    }
   ],
   "source": [
    "df_sorted = df_grouped.sort_values('point')\n",
    "\n",
    "print(df_sorted)"
   ]
  },
  {
   "cell_type": "markdown",
   "metadata": {},
   "source": []
  }
 ],
 "metadata": {
  "kernelspec": {
   "display_name": "Python 3",
   "language": "python",
   "name": "python3"
  },
  "language_info": {
   "codemirror_mode": {
    "name": "ipython",
    "version": 3
   },
   "file_extension": ".py",
   "mimetype": "text/x-python",
   "name": "python",
   "nbconvert_exporter": "python",
   "pygments_lexer": "ipython3",
   "version": "3.11.3"
  }
 },
 "nbformat": 4,
 "nbformat_minor": 2
}
